{
 "cells": [
  {
   "cell_type": "code",
   "execution_count": 1,
   "metadata": {
    "collapsed": false,
    "deletable": true,
    "editable": true
   },
   "outputs": [
    {
     "name": "stdout",
     "output_type": "stream",
     "text": [
      "Populating the interactive namespace from numpy and matplotlib\n"
     ]
    },
    {
     "name": "stderr",
     "output_type": "stream",
     "text": [
      "/usr/local/pkg/python/2.7.13/lib/python2.7/site-packages/matplotlib/__init__.py:878: UserWarning: axes.color_cycle is deprecated and replaced with axes.prop_cycle; please use the latter.\n",
      "  warnings.warn(self.msg_depr % (key, alt_key))\n",
      "Using gpu device 0: Tesla K20Xm (CNMeM is disabled, cuDNN not available)\n"
     ]
    }
   ],
   "source": [
    "%pylab inline\n",
    "import matplotlib.pyplot as plt\n",
    "import seaborn\n",
    "\n",
    "import pandas as pd\n",
    "import numpy as np\n",
    "import models.nestd\n",
    "import os\n",
    "import json\n",
    "from theanomodels.utils.misc import loadHDF5"
   ]
  },
  {
   "cell_type": "code",
   "execution_count": 2,
   "metadata": {
    "collapsed": true,
    "deletable": true,
    "editable": true
   },
   "outputs": [],
   "source": [
    "def extract_configs(rootdir,filename='config.json'):\n",
    "    files = {}\n",
    "    for dirpath, dirnames, filenames in os.walk(rootdir):\n",
    "        if filename in filenames:\n",
    "            with open(os.path.join(dirpath,filename),'r') as f:\n",
    "                files[dirpath] = json.loads(f.read())\n",
    "    return pd.DataFrame(files)"
   ]
  },
  {
   "cell_type": "markdown",
   "metadata": {
    "deletable": true,
    "editable": true
   },
   "source": [
    "## Find files named 'config.json' and load them into a dataframe"
   ]
  },
  {
   "cell_type": "code",
   "execution_count": 3,
   "metadata": {
    "collapsed": false,
    "deletable": true,
    "editable": true
   },
   "outputs": [
    {
     "data": {
      "text/html": [
       "<div>\n",
       "<table border=\"1\" class=\"dataframe\">\n",
       "  <thead>\n",
       "    <tr style=\"text-align: right;\">\n",
       "      <th></th>\n",
       "      <th>output/001_LogGamma/cw128_seed1</th>\n",
       "    </tr>\n",
       "  </thead>\n",
       "  <tbody>\n",
       "    <tr>\n",
       "      <th>KL_loggamma_coef</th>\n",
       "      <td>1</td>\n",
       "    </tr>\n",
       "    <tr>\n",
       "      <th>LogitNormalMP</th>\n",
       "      <td>3</td>\n",
       "    </tr>\n",
       "    <tr>\n",
       "      <th>alpha_inference_layers</th>\n",
       "      <td>2</td>\n",
       "    </tr>\n",
       "    <tr>\n",
       "      <th>annealBP</th>\n",
       "      <td>1</td>\n",
       "    </tr>\n",
       "    <tr>\n",
       "      <th>annealBound</th>\n",
       "      <td>1</td>\n",
       "    </tr>\n",
       "  </tbody>\n",
       "</table>\n",
       "</div>"
      ],
      "text/plain": [
       "                       output/001_LogGamma/cw128_seed1\n",
       "KL_loggamma_coef                                     1\n",
       "LogitNormalMP                                        3\n",
       "alpha_inference_layers                               2\n",
       "annealBP                                             1\n",
       "annealBound                                          1"
      ]
     },
     "execution_count": 3,
     "metadata": {},
     "output_type": "execute_result"
    }
   ],
   "source": [
    "configs = extract_configs('output/001_LogGamma/')\n",
    "configs.iloc[:5]"
   ]
  },
  {
   "cell_type": "markdown",
   "metadata": {
    "deletable": true,
    "editable": true
   },
   "source": [
    "## Get differences between runs"
   ]
  },
  {
   "cell_type": "code",
   "execution_count": 4,
   "metadata": {
    "collapsed": false,
    "deletable": true,
    "editable": true
   },
   "outputs": [],
   "source": [
    "keys_that_are_different = []\n",
    "keys_to_omit = ['timestamp']\n",
    "for k in configs.index:\n",
    "    if k not in keys_that_are_different:\n",
    "        if (configs.T.duplicated(k,keep='first')==False).sum()>1:\n",
    "            keys_that_are_different.append(k)"
   ]
  },
  {
   "cell_type": "code",
   "execution_count": 5,
   "metadata": {
    "collapsed": false,
    "deletable": true,
    "editable": true
   },
   "outputs": [
    {
     "data": {
      "text/html": [
       "<div>\n",
       "<table border=\"1\" class=\"dataframe\">\n",
       "  <thead>\n",
       "    <tr style=\"text-align: right;\">\n",
       "      <th></th>\n",
       "      <th>output/001_LogGamma/cw128_seed1</th>\n",
       "    </tr>\n",
       "  </thead>\n",
       "  <tbody>\n",
       "  </tbody>\n",
       "</table>\n",
       "</div>"
      ],
      "text/plain": [
       "Empty DataFrame\n",
       "Columns: [output/001_LogGamma/cw128_seed1]\n",
       "Index: []"
      ]
     },
     "execution_count": 5,
     "metadata": {},
     "output_type": "execute_result"
    }
   ],
   "source": [
    "configs.loc[keys_that_are_different]"
   ]
  },
  {
   "cell_type": "markdown",
   "metadata": {
    "deletable": true,
    "editable": true
   },
   "source": [
    "## Generate a name-mapping"
   ]
  },
  {
   "cell_type": "code",
   "execution_count": 6,
   "metadata": {
    "collapsed": true,
    "deletable": true,
    "editable": true
   },
   "outputs": [],
   "source": [
    "def generate_name(key,value):\n",
    "    if value is None or value==False:\n",
    "        return ''\n",
    "    elif value==True:\n",
    "        return key\n",
    "    elif key=='model':\n",
    "        return value\n",
    "    else:\n",
    "        return '%s=%s' % (key,value)"
   ]
  },
  {
   "cell_type": "code",
   "execution_count": 7,
   "metadata": {
    "collapsed": false,
    "deletable": true,
    "editable": true
   },
   "outputs": [],
   "source": [
    "keys_to_always_include = ['model']\n",
    "name_map = {}\n",
    "for c in configs.columns:\n",
    "    name = configs.loc[list(set(keys_to_always_include+keys_that_are_different)),c]\n",
    "    name_str_list = filter(len,map(generate_name,*zip(*name.iteritems())))\n",
    "    name = ' '.join(name_str_list)\n",
    "    name_map[c] = name"
   ]
  },
  {
   "cell_type": "code",
   "execution_count": 8,
   "metadata": {
    "collapsed": false,
    "deletable": true,
    "editable": true
   },
   "outputs": [
    {
     "data": {
      "text/plain": [
       "{'output/001_LogGamma/cw128_seed1': u'LogGamma'}"
      ]
     },
     "execution_count": 8,
     "metadata": {},
     "output_type": "execute_result"
    }
   ],
   "source": [
    "name_map"
   ]
  },
  {
   "cell_type": "markdown",
   "metadata": {
    "deletable": true,
    "editable": true
   },
   "source": [
    "## Load results"
   ]
  },
  {
   "cell_type": "code",
   "execution_count": 31,
   "metadata": {
    "collapsed": true
   },
   "outputs": [],
   "source": [
    "import models.nestdarrays"
   ]
  },
  {
   "cell_type": "code",
   "execution_count": 32,
   "metadata": {
    "collapsed": false,
    "deletable": true,
    "editable": true
   },
   "outputs": [
    {
     "data": {
      "text/plain": [
       "<module 'models.nestdarrays' from 'models/nestdarrays.py'>"
      ]
     },
     "execution_count": 32,
     "metadata": {},
     "output_type": "execute_result"
    }
   ],
   "source": [
    "reload(models.nestdarrays)"
   ]
  },
  {
   "cell_type": "code",
   "execution_count": 38,
   "metadata": {
    "collapsed": false,
    "deletable": true,
    "editable": true,
    "scrolled": false
   },
   "outputs": [],
   "source": [
    "results = models.nestd.NestD({name_map[k]:loadHDF5(os.path.join(k,'output.h5')) for k in name_map})"
   ]
  },
  {
   "cell_type": "code",
   "execution_count": 39,
   "metadata": {
    "collapsed": false,
    "deletable": true,
    "editable": true
   },
   "outputs": [
    {
     "data": {
      "text/plain": [
       "NestD{\n",
       " LogGamma: NestD{\n",
       "   train: NestD{\n",
       "     loss: (151,)\n",
       "     p(x,y): NestD{\n",
       "       bound: (151,)\n",
       "       nllX: (151,)\n",
       "       nllY: (151,)\n",
       "       logbeta: (151,)\n",
       "       eps: (151,)\n",
       "       KL: (151,)\n",
       "       U: (151,)\n",
       "       KL_Z: (151,)\n",
       "       alpha: (151,)\n",
       "       objfunc: (151,)\n",
       "       Z: (151,)\n",
       "       NLL: (151,)\n",
       "       KL_loggamma: (151,)}\n",
       "     boundU: (151,)\n",
       "     bound: (151,)\n",
       "     pnorm: (151,)\n",
       "     gnorm: (151,)\n",
       "     epoch: (151,)\n",
       "     objective: (151,)\n",
       "     accuracy: (151,)\n",
       "     boundL: (151,)\n",
       "     p(x): NestD{\n",
       "       bound: (151,)\n",
       "       nllX: (151,)\n",
       "       logbeta: (151,)\n",
       "       eps: (151,)\n",
       "       KL: (151,)\n",
       "       U: (151,)\n",
       "       KL_Z: (151,)\n",
       "       alpha: (151,)\n",
       "       objfunc: (151,)\n",
       "       Z: (151,)\n",
       "       NLL: (151,)\n",
       "       KL_loggamma: (151,)}\n",
       "     duration (seconds): (151,)\n",
       "     classifier: (151,)}\n",
       "   valid: NestD{\n",
       "     loss: (16,)\n",
       "     p(x,y): NestD{\n",
       "       bound: (16,)\n",
       "       nllX: (16,)\n",
       "       nllY: (16,)\n",
       "       logbeta: (16,)\n",
       "       eps: (16,)\n",
       "       KL: (16,)\n",
       "       U: (16,)\n",
       "       KL_Z: (16,)\n",
       "       alpha: (16,)\n",
       "       objfunc: (16,)\n",
       "       Z: (16,)\n",
       "       NLL: (16,)\n",
       "       KL_loggamma: (16,)}\n",
       "     boundU: (16,)\n",
       "     bound: (16,)\n",
       "     p(x): NestD{\n",
       "       bound: (16,)\n",
       "       nllX: (16,)\n",
       "       logbeta: (16,)\n",
       "       eps: (16,)\n",
       "       KL: (16,)\n",
       "       U: (16,)\n",
       "       KL_Z: (16,)\n",
       "       alpha: (16,)\n",
       "       objfunc: (16,)\n",
       "       Z: (16,)\n",
       "       NLL: (16,)\n",
       "       KL_loggamma: (16,)}\n",
       "     epoch: (16,)\n",
       "     objective: (16,)\n",
       "     boundL: (16,)\n",
       "     classifier: (16,)\n",
       "     duration (seconds): (16,)\n",
       "     accuracy: (16,)}}}"
      ]
     },
     "execution_count": 39,
     "metadata": {},
     "output_type": "execute_result"
    }
   ],
   "source": [
    "results.apply(np.shape)"
   ]
  },
  {
   "cell_type": "code",
   "execution_count": 40,
   "metadata": {
    "collapsed": false
   },
   "outputs": [
    {
     "data": {
      "text/plain": [
       "NestD{\n",
       " LogGamma: NestD{\n",
       "   train: NestD{\n",
       "     pnorm: (151,)}\n",
       "   valid: NestD{ }}}"
      ]
     },
     "execution_count": 40,
     "metadata": {},
     "output_type": "execute_result"
    }
   ],
   "source": [
    "results[:,:,['pnorm']].apply(np.shape)"
   ]
  },
  {
   "cell_type": "code",
   "execution_count": 41,
   "metadata": {
    "collapsed": false,
    "deletable": true,
    "editable": true
   },
   "outputs": [
    {
     "data": {
      "text/plain": [
       "{u'LogGamma': {u'train': {u'pnorm': (151,)}, u'valid': {}}}"
      ]
     },
     "execution_count": 41,
     "metadata": {},
     "output_type": "execute_result"
    }
   ],
   "source": [
    "results[:,:,['pnorm']].apply(np.shape).to_dict()"
   ]
  },
  {
   "cell_type": "code",
   "execution_count": 42,
   "metadata": {
    "collapsed": false
   },
   "outputs": [
    {
     "data": {
      "text/plain": [
       "{u'LogGamma': NestD{\n",
       " train: NestD{\n",
       "   pnorm: (151,)}\n",
       " valid: NestD{ }}}"
      ]
     },
     "execution_count": 42,
     "metadata": {},
     "output_type": "execute_result"
    }
   ],
   "source": [
    "dict(results[:,:,['pnorm']].apply(np.shape))"
   ]
  },
  {
   "cell_type": "code",
   "execution_count": 43,
   "metadata": {
    "collapsed": false
   },
   "outputs": [
    {
     "data": {
      "text/plain": [
       "NestD{\n",
       " LogGamma: NestD{\n",
       "   train: NestD{\n",
       "     pnorm: (151,)}}}"
      ]
     },
     "execution_count": 43,
     "metadata": {},
     "output_type": "execute_result"
    }
   ],
   "source": [
    "results[:,:,['pnorm']].apply(np.shape).prune()"
   ]
  },
  {
   "cell_type": "code",
   "execution_count": 47,
   "metadata": {
    "collapsed": false,
    "deletable": true,
    "editable": true
   },
   "outputs": [
    {
     "data": {
      "text/plain": [
       "NestD{\n",
       " LogGamma: NestD{\n",
       "   loss: (151,)\n",
       "   accuracy: (151,)}}"
      ]
     },
     "execution_count": 47,
     "metadata": {},
     "output_type": "execute_result"
    }
   ],
   "source": [
    "results[:,'train',['accuracy','loss']].apply(np.shape)"
   ]
  },
  {
   "cell_type": "code",
   "execution_count": 45,
   "metadata": {
    "collapsed": false,
    "deletable": true,
    "editable": true
   },
   "outputs": [
    {
     "data": {
      "text/plain": [
       "'3.23'"
      ]
     },
     "execution_count": 45,
     "metadata": {},
     "output_type": "execute_result"
    }
   ],
   "source": [
    "'{:0.2f}'.format(3.234234)"
   ]
  },
  {
   "cell_type": "code",
   "execution_count": null,
   "metadata": {
    "collapsed": true,
    "deletable": true,
    "editable": true
   },
   "outputs": [],
   "source": [
    "plot_settings = {\n",
    "    'accuracy': {\n",
    "        'best_val_func': max,\n",
    "        'best_val_format': '{:0.2f}',\n",
    "        'legend_loc': {'loc':'lower right'},\n",
    "        'ylim':(0,1),\n",
    "    },\n",
    "    'loss': {\n",
    "        'best_val_func': min,\n",
    "        'best_val_format': '{:0.0f}',\n",
    "        'legend_loc': {'loc':'upper right'},\n",
    "        #'ylim':(0,1),\n",
    "    },\n",
    "    \n",
    "}\n",
    "\n",
    "def plot_result(x,y=None,label=None,title=None,best_val_func=None,best_val_format=None,legend_loc=None,\n",
    "                xlim=None,ylim=None,xlabel=None,ylabel=None,**plt_kwargs): \n",
    "    if y is None:\n",
    "        y = x\n",
    "        x = np.arange(len(y))\n",
    "    if label is not None and best_val_func is not None:\n",
    "        best_val = best_val_format.format(best_val_func(y))\n",
    "        label = '%s %s' % (best_val,label)\n",
    "    plt.plot(x,y,label=label,**plt_kwargs)\n",
    "    if legend_loc is not None:\n",
    "        plt.legend(**legend_loc)\n",
    "    if title is not None:\n",
    "        plt.title(title)\n",
    "    if xlabel is not None:\n",
    "        plt.xlabel(xlabel)\n",
    "    if ylabel is not None:\n",
    "        plt.ylabel(ylabel)\n",
    "        \n",
    "def plot_result_set(x,y=None,**kwargs):\n",
    "    if y is None:\n",
    "        y = x\n",
    "        x = None\n",
    "    \n",
    "\n",
    "\n",
    "    \n",
    "    \n",
    "        \n",
    "        \n",
    "        \n",
    "        \n",
    "    for i,(key,f,yscale,ylim,loc) in enumerate(zip(keys,funcs,yscales,ylims,locs)):\n",
    "        #print i,key\n",
    "        plt.subplot(1,3,i+1)\n",
    "        if label_prefix == None:\n",
    "            label = 'best %s = %0.2f' % (key,f(results[key]))\n",
    "        else:\n",
    "            label='%s: best %s = %0.2f' % (label_prefix,key,f(results[key]))\n",
    "        plt.plot(results['epochs'],results[key],label=label)\n",
    "        plt.legend(loc=loc)\n",
    "        plt.yscale(yscale)\n",
    "        plt.title('%s %s' % (title,key))\n",
    "        if ylim is not None:\n",
    "            plt.ylim(ylim)"
   ]
  },
  {
   "cell_type": "code",
   "execution_count": null,
   "metadata": {
    "collapsed": true,
    "deletable": true,
    "editable": true
   },
   "outputs": [],
   "source": [
    "def plotExperiment(results,\n",
    "                   title = '',\n",
    "                   keys = ['cost','bound','accuracy'],\n",
    "                   funcs = [min,min,max],\n",
    "                   yscales = ['linear','linear','linear'],\n",
    "                   ylims = [(100,600),(100,600),(0,1)],\n",
    "                   locs = ['upper right','upper right','lower right'],\n",
    "                   label_prefix=None\n",
    "                   ):\n",
    "    plt.figure(1,figsize=(18,4))\n",
    "    for i,(key,f,yscale,ylim,loc) in enumerate(zip(keys,funcs,yscales,ylims,locs)):\n",
    "        #print i,key\n",
    "        plt.subplot(1,3,i+1)\n",
    "        if label_prefix == None:\n",
    "            label = 'best %s = %0.2f' % (key,f(results[key]))\n",
    "        else:\n",
    "            label='%s: best %s = %0.2f' % (label_prefix,key,f(results[key]))\n",
    "        plt.plot(results['epochs'],results[key],label=label)\n",
    "        plt.legend(loc=loc)\n",
    "        plt.yscale(yscale)\n",
    "        plt.title('%s %s' % (title,key))\n",
    "        if ylim is not None:\n",
    "            plt.ylim(ylim)"
   ]
  },
  {
   "cell_type": "code",
   "execution_count": 57,
   "metadata": {
    "collapsed": false,
    "deletable": true,
    "editable": true
   },
   "outputs": [
    {
     "data": {
      "text/html": [
       "<div>\n",
       "<table border=\"1\" class=\"dataframe\">\n",
       "  <thead>\n",
       "    <tr style=\"text-align: right;\">\n",
       "      <th></th>\n",
       "      <th>0</th>\n",
       "      <th>1</th>\n",
       "    </tr>\n",
       "  </thead>\n",
       "  <tbody>\n",
       "    <tr>\n",
       "      <th>0</th>\n",
       "      <td>(LogGamma, train, loss)</td>\n",
       "      <td>[8.74946e+07, 91788.5, 87505.0, 92981.9, 80126...</td>\n",
       "    </tr>\n",
       "    <tr>\n",
       "      <th>1</th>\n",
       "      <td>(LogGamma, train, p(x,y), nllX)</td>\n",
       "      <td>[781.506, 193.536, 191.448, 183.55, 169.172, 1...</td>\n",
       "    </tr>\n",
       "    <tr>\n",
       "      <th>2</th>\n",
       "      <td>(LogGamma, train, p(x,y), logbeta)</td>\n",
       "      <td>[-0.235697, -1.00667, -1.15575, -0.997878, -1....</td>\n",
       "    </tr>\n",
       "    <tr>\n",
       "      <th>3</th>\n",
       "      <td>(LogGamma, train, p(x,y), nllY)</td>\n",
       "      <td>[3.78404, 2.33661, 2.11648, 2.35015, 2.00719, ...</td>\n",
       "    </tr>\n",
       "    <tr>\n",
       "      <th>4</th>\n",
       "      <td>(LogGamma, train, p(x,y), bound)</td>\n",
       "      <td>[5.27287e+07, 24293.4, 23185.8, 25109.6, 20831...</td>\n",
       "    </tr>\n",
       "    <tr>\n",
       "      <th>5</th>\n",
       "      <td>(LogGamma, train, p(x,y), KL)</td>\n",
       "      <td>[5.26501e+07, 4706.15, 3829.42, 6519.66, 3713....</td>\n",
       "    </tr>\n",
       "    <tr>\n",
       "      <th>6</th>\n",
       "      <td>(LogGamma, train, p(x,y), eps)</td>\n",
       "      <td>[0.00123112, -0.000347916, -0.00162066, 0.0009...</td>\n",
       "    </tr>\n",
       "    <tr>\n",
       "      <th>7</th>\n",
       "      <td>(LogGamma, train, p(x,y), objfunc)</td>\n",
       "      <td>[-2.27731e+08, -435167.0, -451982.0, -417681.0...</td>\n",
       "    </tr>\n",
       "    <tr>\n",
       "      <th>8</th>\n",
       "      <td>(LogGamma, train, p(x,y), U)</td>\n",
       "      <td>[-32.989, -8.18494, -8.71878, -9.32058, -7.709...</td>\n",
       "    </tr>\n",
       "    <tr>\n",
       "      <th>9</th>\n",
       "      <td>(LogGamma, train, p(x,y), KL_Z)</td>\n",
       "      <td>[526016.0, 3.22634, 3.60051, 5.54824, 8.78736,...</td>\n",
       "    </tr>\n",
       "    <tr>\n",
       "      <th>10</th>\n",
       "      <td>(LogGamma, train, p(x,y), alpha)</td>\n",
       "      <td>[0.1, 0.1, 0.1, 0.1, 0.1, 0.1, 0.1, 0.1, 0.1, ...</td>\n",
       "    </tr>\n",
       "    <tr>\n",
       "      <th>11</th>\n",
       "      <td>(LogGamma, train, p(x,y), KL_loggamma)</td>\n",
       "      <td>[485.592, 43.8352, 34.6937, 59.6484, 28.347, 1...</td>\n",
       "    </tr>\n",
       "    <tr>\n",
       "      <th>12</th>\n",
       "      <td>(LogGamma, train, p(x,y), Z)</td>\n",
       "      <td>[-0.00546681, -0.071296, -0.0740518, -0.090861...</td>\n",
       "    </tr>\n",
       "    <tr>\n",
       "      <th>13</th>\n",
       "      <td>(LogGamma, train, p(x,y), NLL)</td>\n",
       "      <td>[78529.0, 19587.3, 19356.4, 18590.0, 17117.9, ...</td>\n",
       "    </tr>\n",
       "    <tr>\n",
       "      <th>14</th>\n",
       "      <td>(LogGamma, train, boundU)</td>\n",
       "      <td>[3.46971e+07, 23784.7, 22816.4, 24503.5, 21117...</td>\n",
       "    </tr>\n",
       "    <tr>\n",
       "      <th>15</th>\n",
       "      <td>(LogGamma, train, bound)</td>\n",
       "      <td>[8.74257e+07, 48078.1, 46002.3, 49613.1, 41949...</td>\n",
       "    </tr>\n",
       "    <tr>\n",
       "      <th>16</th>\n",
       "      <td>(LogGamma, train, epoch)</td>\n",
       "      <td>[0, 1, 2, 3, 4, 5, 6, 7, 8, 9, 10, 11, 12, 13,...</td>\n",
       "    </tr>\n",
       "    <tr>\n",
       "      <th>17</th>\n",
       "      <td>(LogGamma, train, gnorm)</td>\n",
       "      <td>[14561.7, 15035.4, 15035.4, 15035.4, 15035.4, ...</td>\n",
       "    </tr>\n",
       "    <tr>\n",
       "      <th>18</th>\n",
       "      <td>(LogGamma, train, boundL)</td>\n",
       "      <td>[5.27287e+07, 24293.4, 23185.8, 25109.6, 20831...</td>\n",
       "    </tr>\n",
       "    <tr>\n",
       "      <th>19</th>\n",
       "      <td>(LogGamma, train, objective)</td>\n",
       "      <td>[-6.53512e+08, -883796.0, -919860.0, -855162.0...</td>\n",
       "    </tr>\n",
       "    <tr>\n",
       "      <th>20</th>\n",
       "      <td>(LogGamma, train, pnorm)</td>\n",
       "      <td>[124.13, 122.053, 122.561, 122.964, 123.392, 1...</td>\n",
       "    </tr>\n",
       "    <tr>\n",
       "      <th>21</th>\n",
       "      <td>(LogGamma, train, p(x), nllX)</td>\n",
       "      <td>[761.176, 193.46, 192.098, 187.064, 178.363, 1...</td>\n",
       "    </tr>\n",
       "    <tr>\n",
       "      <th>22</th>\n",
       "      <td>(LogGamma, train, p(x), logbeta)</td>\n",
       "      <td>[-0.224522, -0.964033, -1.11165, -0.966253, -1...</td>\n",
       "    </tr>\n",
       "    <tr>\n",
       "      <th>23</th>\n",
       "      <td>(LogGamma, train, p(x), objfunc)</td>\n",
       "      <td>[-4.21121e+08, -451210.0, -470842.0, -440933.0...</td>\n",
       "    </tr>\n",
       "    <tr>\n",
       "      <th>24</th>\n",
       "      <td>(LogGamma, train, p(x), bound)</td>\n",
       "      <td>[3.46971e+07, 23784.7, 22816.4, 24503.5, 21117...</td>\n",
       "    </tr>\n",
       "    <tr>\n",
       "      <th>25</th>\n",
       "      <td>(LogGamma, train, p(x), KL)</td>\n",
       "      <td>[3.46209e+07, 4438.67, 3606.65, 5797.07, 3281....</td>\n",
       "    </tr>\n",
       "    <tr>\n",
       "      <th>26</th>\n",
       "      <td>(LogGamma, train, p(x), eps)</td>\n",
       "      <td>[-0.00127021, 0.000651015, -0.000345599, 0.000...</td>\n",
       "    </tr>\n",
       "    <tr>\n",
       "      <th>27</th>\n",
       "      <td>(LogGamma, train, p(x), U)</td>\n",
       "      <td>[-36.5386, -8.2136, -8.86381, -9.09938, -7.464...</td>\n",
       "    </tr>\n",
       "    <tr>\n",
       "      <th>28</th>\n",
       "      <td>(LogGamma, train, p(x), KL_Z)</td>\n",
       "      <td>[345721.0, 3.20058, 3.54974, 5.02838, 7.41434,...</td>\n",
       "    </tr>\n",
       "    <tr>\n",
       "      <th>29</th>\n",
       "      <td>(LogGamma, train, p(x), alpha)</td>\n",
       "      <td>[0.1, 0.1, 0.1, 0.1, 0.1, 0.1, 0.1, 0.1, 0.1, ...</td>\n",
       "    </tr>\n",
       "    <tr>\n",
       "      <th>...</th>\n",
       "      <td>...</td>\n",
       "      <td>...</td>\n",
       "    </tr>\n",
       "    <tr>\n",
       "      <th>40</th>\n",
       "      <td>(LogGamma, valid, p(x,y), bound)</td>\n",
       "      <td>[36263.7, 16874.6, 15763.7, 16080.6, 15838.4, ...</td>\n",
       "    </tr>\n",
       "    <tr>\n",
       "      <th>41</th>\n",
       "      <td>(LogGamma, valid, p(x,y), KL)</td>\n",
       "      <td>[16521.7, 2105.22, 1963.5, 2415.26, 2147.15, 2...</td>\n",
       "    </tr>\n",
       "    <tr>\n",
       "      <th>42</th>\n",
       "      <td>(LogGamma, valid, p(x,y), eps)</td>\n",
       "      <td>[0.000246734, -0.00142286, 0.00039575, 0.00159...</td>\n",
       "    </tr>\n",
       "    <tr>\n",
       "      <th>43</th>\n",
       "      <td>(LogGamma, valid, p(x,y), objfunc)</td>\n",
       "      <td>[36263.7, 16874.6, 15763.7, 16080.6, 15838.4, ...</td>\n",
       "    </tr>\n",
       "    <tr>\n",
       "      <th>44</th>\n",
       "      <td>(LogGamma, valid, p(x,y), U)</td>\n",
       "      <td>[-27.6251, -3.63884, -3.91395, -6.60083, -5.03...</td>\n",
       "    </tr>\n",
       "    <tr>\n",
       "      <th>45</th>\n",
       "      <td>(LogGamma, valid, p(x,y), KL_Z)</td>\n",
       "      <td>[2.66759, 14.3923, 13.416, 14.1827, 13.2299, 1...</td>\n",
       "    </tr>\n",
       "    <tr>\n",
       "      <th>46</th>\n",
       "      <td>(LogGamma, valid, p(x,y), alpha)</td>\n",
       "      <td>[0.1, 0.1, 0.1, 0.1, 0.1, 0.1, 0.1, 0.1, 0.1, ...</td>\n",
       "    </tr>\n",
       "    <tr>\n",
       "      <th>47</th>\n",
       "      <td>(LogGamma, valid, p(x,y), KL_loggamma)</td>\n",
       "      <td>[162.55, 6.65986, 6.219, 9.96995, 8.24159, 5.7...</td>\n",
       "    </tr>\n",
       "    <tr>\n",
       "      <th>48</th>\n",
       "      <td>(LogGamma, valid, p(x,y), Z)</td>\n",
       "      <td>[-0.0115604, -0.228946, -0.199137, -0.204733, ...</td>\n",
       "    </tr>\n",
       "    <tr>\n",
       "      <th>49</th>\n",
       "      <td>(LogGamma, valid, p(x,y), NLL)</td>\n",
       "      <td>[19741.9, 14769.3, 13800.2, 13665.4, 13691.3, ...</td>\n",
       "    </tr>\n",
       "    <tr>\n",
       "      <th>50</th>\n",
       "      <td>(LogGamma, valid, boundU)</td>\n",
       "      <td>[36174.5, 16556.8, 15545.1, 15958.7, 15644.9, ...</td>\n",
       "    </tr>\n",
       "    <tr>\n",
       "      <th>51</th>\n",
       "      <td>(LogGamma, valid, bound)</td>\n",
       "      <td>[72438.1, 33431.3, 31308.9, 32039.3, 31483.3, ...</td>\n",
       "    </tr>\n",
       "    <tr>\n",
       "      <th>52</th>\n",
       "      <td>(LogGamma, valid, epoch)</td>\n",
       "      <td>[0, 10, 20, 30, 40, 50, 60, 70, 80, 90, 100, 1...</td>\n",
       "    </tr>\n",
       "    <tr>\n",
       "      <th>53</th>\n",
       "      <td>(LogGamma, valid, boundL)</td>\n",
       "      <td>[36263.7, 16874.6, 15763.7, 16080.6, 15838.4, ...</td>\n",
       "    </tr>\n",
       "    <tr>\n",
       "      <th>54</th>\n",
       "      <td>(LogGamma, valid, objective)</td>\n",
       "      <td>[151808.0, 60747.4, 54154.4, 56963.6, 54482.6,...</td>\n",
       "    </tr>\n",
       "    <tr>\n",
       "      <th>55</th>\n",
       "      <td>(LogGamma, valid, p(x), nllX)</td>\n",
       "      <td>[192.661, 145.51, 136.578, 135.928, 135.477, 1...</td>\n",
       "    </tr>\n",
       "    <tr>\n",
       "      <th>56</th>\n",
       "      <td>(LogGamma, valid, p(x), logbeta)</td>\n",
       "      <td>[-1.55744, -0.933976, -1.04131, -1.37051, -1.1...</td>\n",
       "    </tr>\n",
       "    <tr>\n",
       "      <th>57</th>\n",
       "      <td>(LogGamma, valid, p(x), objfunc)</td>\n",
       "      <td>[36174.5, 16556.8, 15545.1, 15958.7, 15644.9, ...</td>\n",
       "    </tr>\n",
       "    <tr>\n",
       "      <th>58</th>\n",
       "      <td>(LogGamma, valid, p(x), bound)</td>\n",
       "      <td>[36174.5, 16556.8, 15545.1, 15958.7, 15644.9, ...</td>\n",
       "    </tr>\n",
       "    <tr>\n",
       "      <th>59</th>\n",
       "      <td>(LogGamma, valid, p(x), KL)</td>\n",
       "      <td>[16908.4, 2005.8, 1887.37, 2365.86, 2097.19, 1...</td>\n",
       "    </tr>\n",
       "    <tr>\n",
       "      <th>60</th>\n",
       "      <td>(LogGamma, valid, p(x), eps)</td>\n",
       "      <td>[0.00121456, -0.0010553, -1.63935e-05, 0.00112...</td>\n",
       "    </tr>\n",
       "    <tr>\n",
       "      <th>61</th>\n",
       "      <td>(LogGamma, valid, p(x), U)</td>\n",
       "      <td>[-30.7507, -3.84013, -4.08294, -6.90926, -5.27...</td>\n",
       "    </tr>\n",
       "    <tr>\n",
       "      <th>62</th>\n",
       "      <td>(LogGamma, valid, p(x), KL_Z)</td>\n",
       "      <td>[2.66244, 14.6326, 13.7909, 14.8646, 13.8219, ...</td>\n",
       "    </tr>\n",
       "    <tr>\n",
       "      <th>63</th>\n",
       "      <td>(LogGamma, valid, p(x), alpha)</td>\n",
       "      <td>[0.1, 0.1, 0.1, 0.1, 0.1, 0.1, 0.1, 0.1, 0.1, ...</td>\n",
       "    </tr>\n",
       "    <tr>\n",
       "      <th>64</th>\n",
       "      <td>(LogGamma, valid, p(x), KL_loggamma)</td>\n",
       "      <td>[166.421, 5.42541, 5.08283, 8.79397, 7.14996, ...</td>\n",
       "    </tr>\n",
       "    <tr>\n",
       "      <th>65</th>\n",
       "      <td>(LogGamma, valid, p(x), Z)</td>\n",
       "      <td>[-0.0112747, -0.229181, -0.199531, -0.204946, ...</td>\n",
       "    </tr>\n",
       "    <tr>\n",
       "      <th>66</th>\n",
       "      <td>(LogGamma, valid, p(x), NLL)</td>\n",
       "      <td>[19266.1, 14551.0, 13657.8, 13592.8, 13547.7, ...</td>\n",
       "    </tr>\n",
       "    <tr>\n",
       "      <th>67</th>\n",
       "      <td>(LogGamma, valid, classifier)</td>\n",
       "      <td>[79369.5, 27316.1, 22845.5, 24924.3, 22999.3, ...</td>\n",
       "    </tr>\n",
       "    <tr>\n",
       "      <th>68</th>\n",
       "      <td>(LogGamma, valid, duration (seconds))</td>\n",
       "      <td>[7.53543710709, 7.52096605301, 7.20732593536, ...</td>\n",
       "    </tr>\n",
       "    <tr>\n",
       "      <th>69</th>\n",
       "      <td>(LogGamma, valid, accuracy)</td>\n",
       "      <td>[0.0988, 0.2251, 0.4582, 0.3499, 0.4288, 0.442...</td>\n",
       "    </tr>\n",
       "  </tbody>\n",
       "</table>\n",
       "<p>70 rows × 2 columns</p>\n",
       "</div>"
      ],
      "text/plain": [
       "                                         0  \\\n",
       "0                  (LogGamma, train, loss)   \n",
       "1          (LogGamma, train, p(x,y), nllX)   \n",
       "2       (LogGamma, train, p(x,y), logbeta)   \n",
       "3          (LogGamma, train, p(x,y), nllY)   \n",
       "4         (LogGamma, train, p(x,y), bound)   \n",
       "5            (LogGamma, train, p(x,y), KL)   \n",
       "6           (LogGamma, train, p(x,y), eps)   \n",
       "7       (LogGamma, train, p(x,y), objfunc)   \n",
       "8             (LogGamma, train, p(x,y), U)   \n",
       "9          (LogGamma, train, p(x,y), KL_Z)   \n",
       "10        (LogGamma, train, p(x,y), alpha)   \n",
       "11  (LogGamma, train, p(x,y), KL_loggamma)   \n",
       "12            (LogGamma, train, p(x,y), Z)   \n",
       "13          (LogGamma, train, p(x,y), NLL)   \n",
       "14               (LogGamma, train, boundU)   \n",
       "15                (LogGamma, train, bound)   \n",
       "16                (LogGamma, train, epoch)   \n",
       "17                (LogGamma, train, gnorm)   \n",
       "18               (LogGamma, train, boundL)   \n",
       "19            (LogGamma, train, objective)   \n",
       "20                (LogGamma, train, pnorm)   \n",
       "21           (LogGamma, train, p(x), nllX)   \n",
       "22        (LogGamma, train, p(x), logbeta)   \n",
       "23        (LogGamma, train, p(x), objfunc)   \n",
       "24          (LogGamma, train, p(x), bound)   \n",
       "25             (LogGamma, train, p(x), KL)   \n",
       "26            (LogGamma, train, p(x), eps)   \n",
       "27              (LogGamma, train, p(x), U)   \n",
       "28           (LogGamma, train, p(x), KL_Z)   \n",
       "29          (LogGamma, train, p(x), alpha)   \n",
       "..                                     ...   \n",
       "40        (LogGamma, valid, p(x,y), bound)   \n",
       "41           (LogGamma, valid, p(x,y), KL)   \n",
       "42          (LogGamma, valid, p(x,y), eps)   \n",
       "43      (LogGamma, valid, p(x,y), objfunc)   \n",
       "44            (LogGamma, valid, p(x,y), U)   \n",
       "45         (LogGamma, valid, p(x,y), KL_Z)   \n",
       "46        (LogGamma, valid, p(x,y), alpha)   \n",
       "47  (LogGamma, valid, p(x,y), KL_loggamma)   \n",
       "48            (LogGamma, valid, p(x,y), Z)   \n",
       "49          (LogGamma, valid, p(x,y), NLL)   \n",
       "50               (LogGamma, valid, boundU)   \n",
       "51                (LogGamma, valid, bound)   \n",
       "52                (LogGamma, valid, epoch)   \n",
       "53               (LogGamma, valid, boundL)   \n",
       "54            (LogGamma, valid, objective)   \n",
       "55           (LogGamma, valid, p(x), nllX)   \n",
       "56        (LogGamma, valid, p(x), logbeta)   \n",
       "57        (LogGamma, valid, p(x), objfunc)   \n",
       "58          (LogGamma, valid, p(x), bound)   \n",
       "59             (LogGamma, valid, p(x), KL)   \n",
       "60            (LogGamma, valid, p(x), eps)   \n",
       "61              (LogGamma, valid, p(x), U)   \n",
       "62           (LogGamma, valid, p(x), KL_Z)   \n",
       "63          (LogGamma, valid, p(x), alpha)   \n",
       "64    (LogGamma, valid, p(x), KL_loggamma)   \n",
       "65              (LogGamma, valid, p(x), Z)   \n",
       "66            (LogGamma, valid, p(x), NLL)   \n",
       "67           (LogGamma, valid, classifier)   \n",
       "68   (LogGamma, valid, duration (seconds))   \n",
       "69             (LogGamma, valid, accuracy)   \n",
       "\n",
       "                                                    1  \n",
       "0   [8.74946e+07, 91788.5, 87505.0, 92981.9, 80126...  \n",
       "1   [781.506, 193.536, 191.448, 183.55, 169.172, 1...  \n",
       "2   [-0.235697, -1.00667, -1.15575, -0.997878, -1....  \n",
       "3   [3.78404, 2.33661, 2.11648, 2.35015, 2.00719, ...  \n",
       "4   [5.27287e+07, 24293.4, 23185.8, 25109.6, 20831...  \n",
       "5   [5.26501e+07, 4706.15, 3829.42, 6519.66, 3713....  \n",
       "6   [0.00123112, -0.000347916, -0.00162066, 0.0009...  \n",
       "7   [-2.27731e+08, -435167.0, -451982.0, -417681.0...  \n",
       "8   [-32.989, -8.18494, -8.71878, -9.32058, -7.709...  \n",
       "9   [526016.0, 3.22634, 3.60051, 5.54824, 8.78736,...  \n",
       "10  [0.1, 0.1, 0.1, 0.1, 0.1, 0.1, 0.1, 0.1, 0.1, ...  \n",
       "11  [485.592, 43.8352, 34.6937, 59.6484, 28.347, 1...  \n",
       "12  [-0.00546681, -0.071296, -0.0740518, -0.090861...  \n",
       "13  [78529.0, 19587.3, 19356.4, 18590.0, 17117.9, ...  \n",
       "14  [3.46971e+07, 23784.7, 22816.4, 24503.5, 21117...  \n",
       "15  [8.74257e+07, 48078.1, 46002.3, 49613.1, 41949...  \n",
       "16  [0, 1, 2, 3, 4, 5, 6, 7, 8, 9, 10, 11, 12, 13,...  \n",
       "17  [14561.7, 15035.4, 15035.4, 15035.4, 15035.4, ...  \n",
       "18  [5.27287e+07, 24293.4, 23185.8, 25109.6, 20831...  \n",
       "19  [-6.53512e+08, -883796.0, -919860.0, -855162.0...  \n",
       "20  [124.13, 122.053, 122.561, 122.964, 123.392, 1...  \n",
       "21  [761.176, 193.46, 192.098, 187.064, 178.363, 1...  \n",
       "22  [-0.224522, -0.964033, -1.11165, -0.966253, -1...  \n",
       "23  [-4.21121e+08, -451210.0, -470842.0, -440933.0...  \n",
       "24  [3.46971e+07, 23784.7, 22816.4, 24503.5, 21117...  \n",
       "25  [3.46209e+07, 4438.67, 3606.65, 5797.07, 3281....  \n",
       "26  [-0.00127021, 0.000651015, -0.000345599, 0.000...  \n",
       "27  [-36.5386, -8.2136, -8.86381, -9.09938, -7.464...  \n",
       "28  [345721.0, 3.20058, 3.54974, 5.02838, 7.41434,...  \n",
       "29  [0.1, 0.1, 0.1, 0.1, 0.1, 0.1, 0.1, 0.1, 0.1, ...  \n",
       "..                                                ...  \n",
       "40  [36263.7, 16874.6, 15763.7, 16080.6, 15838.4, ...  \n",
       "41  [16521.7, 2105.22, 1963.5, 2415.26, 2147.15, 2...  \n",
       "42  [0.000246734, -0.00142286, 0.00039575, 0.00159...  \n",
       "43  [36263.7, 16874.6, 15763.7, 16080.6, 15838.4, ...  \n",
       "44  [-27.6251, -3.63884, -3.91395, -6.60083, -5.03...  \n",
       "45  [2.66759, 14.3923, 13.416, 14.1827, 13.2299, 1...  \n",
       "46  [0.1, 0.1, 0.1, 0.1, 0.1, 0.1, 0.1, 0.1, 0.1, ...  \n",
       "47  [162.55, 6.65986, 6.219, 9.96995, 8.24159, 5.7...  \n",
       "48  [-0.0115604, -0.228946, -0.199137, -0.204733, ...  \n",
       "49  [19741.9, 14769.3, 13800.2, 13665.4, 13691.3, ...  \n",
       "50  [36174.5, 16556.8, 15545.1, 15958.7, 15644.9, ...  \n",
       "51  [72438.1, 33431.3, 31308.9, 32039.3, 31483.3, ...  \n",
       "52  [0, 10, 20, 30, 40, 50, 60, 70, 80, 90, 100, 1...  \n",
       "53  [36263.7, 16874.6, 15763.7, 16080.6, 15838.4, ...  \n",
       "54  [151808.0, 60747.4, 54154.4, 56963.6, 54482.6,...  \n",
       "55  [192.661, 145.51, 136.578, 135.928, 135.477, 1...  \n",
       "56  [-1.55744, -0.933976, -1.04131, -1.37051, -1.1...  \n",
       "57  [36174.5, 16556.8, 15545.1, 15958.7, 15644.9, ...  \n",
       "58  [36174.5, 16556.8, 15545.1, 15958.7, 15644.9, ...  \n",
       "59  [16908.4, 2005.8, 1887.37, 2365.86, 2097.19, 1...  \n",
       "60  [0.00121456, -0.0010553, -1.63935e-05, 0.00112...  \n",
       "61  [-30.7507, -3.84013, -4.08294, -6.90926, -5.27...  \n",
       "62  [2.66244, 14.6326, 13.7909, 14.8646, 13.8219, ...  \n",
       "63  [0.1, 0.1, 0.1, 0.1, 0.1, 0.1, 0.1, 0.1, 0.1, ...  \n",
       "64  [166.421, 5.42541, 5.08283, 8.79397, 7.14996, ...  \n",
       "65  [-0.0112747, -0.229181, -0.199531, -0.204946, ...  \n",
       "66  [19266.1, 14551.0, 13657.8, 13592.8, 13547.7, ...  \n",
       "67  [79369.5, 27316.1, 22845.5, 24924.3, 22999.3, ...  \n",
       "68  [7.53543710709, 7.52096605301, 7.20732593536, ...  \n",
       "69  [0.0988, 0.2251, 0.4582, 0.3499, 0.4288, 0.442...  \n",
       "\n",
       "[70 rows x 2 columns]"
      ]
     },
     "execution_count": 57,
     "metadata": {},
     "output_type": "execute_result"
    }
   ],
   "source": [
    "pd.DataFrame(results.walk())"
   ]
  },
  {
   "cell_type": "code",
   "execution_count": 56,
   "metadata": {
    "collapsed": false,
    "deletable": true,
    "editable": true
   },
   "outputs": [
    {
     "data": {
      "text/html": [
       "<div>\n",
       "<table border=\"1\" class=\"dataframe\">\n",
       "  <thead>\n",
       "    <tr style=\"text-align: right;\">\n",
       "      <th></th>\n",
       "      <th>a</th>\n",
       "      <th>b</th>\n",
       "    </tr>\n",
       "  </thead>\n",
       "  <tbody>\n",
       "    <tr>\n",
       "      <th>0</th>\n",
       "      <td>[0.0315762198388, -0.0647093483186, -0.5671997...</td>\n",
       "      <td>3</td>\n",
       "    </tr>\n",
       "    <tr>\n",
       "      <th>1</th>\n",
       "      <td>2</td>\n",
       "      <td>4</td>\n",
       "    </tr>\n",
       "    <tr>\n",
       "      <th>2</th>\n",
       "      <td>3</td>\n",
       "      <td>5</td>\n",
       "    </tr>\n",
       "  </tbody>\n",
       "</table>\n",
       "</div>"
      ],
      "text/plain": [
       "                                                   a  b\n",
       "0  [0.0315762198388, -0.0647093483186, -0.5671997...  3\n",
       "1                                                  2  4\n",
       "2                                                  3  5"
      ]
     },
     "execution_count": 56,
     "metadata": {},
     "output_type": "execute_result"
    }
   ],
   "source": [
    "pd.DataFrame({'a':[np.random.randn(4),2,3],'b':range(3,6)})"
   ]
  },
  {
   "cell_type": "code",
   "execution_count": 55,
   "metadata": {
    "collapsed": true,
    "deletable": true,
    "editable": true
   },
   "outputs": [],
   "source": [
    "import numpy as np"
   ]
  },
  {
   "cell_type": "code",
   "execution_count": 21,
   "metadata": {
    "collapsed": true,
    "deletable": true,
    "editable": true
   },
   "outputs": [],
   "source": [
    "class thing(object):\n",
    "    def __getitem__(self,x):\n",
    "        print x,type(x)\n",
    "    def func(self,*args):\n",
    "        print args"
   ]
  },
  {
   "cell_type": "code",
   "execution_count": 40,
   "metadata": {
    "collapsed": false,
    "deletable": true,
    "editable": true
   },
   "outputs": [
    {
     "name": "stdout",
     "output_type": "stream",
     "text": [
      "(slice(None, None, None), slice(None, None, None)) <type 'tuple'>\n"
     ]
    }
   ],
   "source": [
    "thing()[:,:]"
   ]
  },
  {
   "cell_type": "code",
   "execution_count": 42,
   "metadata": {
    "collapsed": false,
    "deletable": true,
    "editable": true,
    "scrolled": true
   },
   "outputs": [
    {
     "name": "stdout",
     "output_type": "stream",
     "text": [
      "((1, 2, 3), 3242) <type 'tuple'>\n"
     ]
    }
   ],
   "source": [
    "thing()[(1,2,3),(3242)]"
   ]
  },
  {
   "cell_type": "code",
   "execution_count": 24,
   "metadata": {
    "collapsed": false,
    "deletable": true,
    "editable": true
   },
   "outputs": [
    {
     "data": {
      "text/plain": [
       "numpy.ndarray"
      ]
     },
     "execution_count": 24,
     "metadata": {},
     "output_type": "execute_result"
    }
   ],
   "source": [
    "type(np.random.randn(3))"
   ]
  },
  {
   "cell_type": "code",
   "execution_count": 26,
   "metadata": {
    "collapsed": false,
    "deletable": true,
    "editable": true
   },
   "outputs": [
    {
     "ename": "SyntaxError",
     "evalue": "invalid syntax (<ipython-input-26-ead0e3e3cd48>, line 1)",
     "output_type": "error",
     "traceback": [
      "\u001b[0;36m  File \u001b[0;32m\"<ipython-input-26-ead0e3e3cd48>\"\u001b[0;36m, line \u001b[0;32m1\u001b[0m\n\u001b[0;31m    thing().func([:,:])\u001b[0m\n\u001b[0m                  ^\u001b[0m\n\u001b[0;31mSyntaxError\u001b[0m\u001b[0;31m:\u001b[0m invalid syntax\n"
     ]
    }
   ],
   "source": [
    "thing().func([:,:])"
   ]
  },
  {
   "cell_type": "code",
   "execution_count": 44,
   "metadata": {
    "collapsed": false,
    "deletable": true,
    "editable": true
   },
   "outputs": [],
   "source": [
    "a = (1)"
   ]
  },
  {
   "cell_type": "code",
   "execution_count": 45,
   "metadata": {
    "collapsed": false,
    "deletable": true,
    "editable": true
   },
   "outputs": [
    {
     "data": {
      "text/plain": [
       "int"
      ]
     },
     "execution_count": 45,
     "metadata": {},
     "output_type": "execute_result"
    }
   ],
   "source": [
    "type(a)"
   ]
  },
  {
   "cell_type": "code",
   "execution_count": 29,
   "metadata": {
    "collapsed": false,
    "deletable": true,
    "editable": true
   },
   "outputs": [
    {
     "data": {
      "text/plain": [
       "(2, 3)"
      ]
     },
     "execution_count": 29,
     "metadata": {},
     "output_type": "execute_result"
    }
   ],
   "source": [
    "(1,2,3)[1:]"
   ]
  },
  {
   "cell_type": "code",
   "execution_count": 30,
   "metadata": {
    "collapsed": true,
    "deletable": true,
    "editable": true
   },
   "outputs": [],
   "source": [
    "s = slice(None,None,None)"
   ]
  },
  {
   "cell_type": "code",
   "execution_count": 33,
   "metadata": {
    "collapsed": false,
    "deletable": true,
    "editable": true
   },
   "outputs": [],
   "source": [
    "s.start"
   ]
  },
  {
   "cell_type": "code",
   "execution_count": 35,
   "metadata": {
    "collapsed": false,
    "deletable": true,
    "editable": true
   },
   "outputs": [
    {
     "data": {
      "text/plain": [
       "(1, 2, 3)"
      ]
     },
     "execution_count": 35,
     "metadata": {},
     "output_type": "execute_result"
    }
   ],
   "source": [
    "(1,2,3)"
   ]
  },
  {
   "cell_type": "code",
   "execution_count": 7,
   "metadata": {
    "collapsed": true,
    "deletable": true,
    "editable": true
   },
   "outputs": [],
   "source": [
    "def stuff(x=123,*args,**kwargs):\n",
    "    print x,type(x),args"
   ]
  },
  {
   "cell_type": "code",
   "execution_count": 8,
   "metadata": {
    "collapsed": false,
    "deletable": true,
    "editable": true
   },
   "outputs": [
    {
     "name": "stdout",
     "output_type": "stream",
     "text": [
      "(1,) <type 'tuple'> (2, 3, 4, 5)\n"
     ]
    }
   ],
   "source": [
    "stuff((1,),2,3,4,5)"
   ]
  },
  {
   "cell_type": "code",
   "execution_count": null,
   "metadata": {
    "collapsed": true,
    "deletable": true,
    "editable": true
   },
   "outputs": [],
   "source": [
    "tWeights = {\n",
    "    'weights': {\n",
    "        'w1':nparray,\n",
    "        'w2':sdddd\n",
    "    },\n",
    "    'hyperparameters':{\n",
    "        ...\n",
    "    }\n",
    "    \n",
    "}\n",
    "tOutputs = {\n",
    "    'train':{\n",
    "        'p(x)':{...},\n",
    "        'p(x,y)':{...}\n",
    "    }\n",
    "    'eval':{\n",
    "        'p(x)':{...},\n",
    "        'p(x,y)':{...}\n",
    "    }\n",
    "}"
   ]
  },
  {
   "cell_type": "code",
   "execution_count": null,
   "metadata": {
    "collapsed": true,
    "deletable": true,
    "editable": true
   },
   "outputs": [],
   "source": [
    "self.tWeights = self.tWeights['hyperparameters']\n",
    "self.tOutputs = self.tOutputs['hyperparameters']"
   ]
  },
  {
   "cell_type": "code",
   "execution_count": null,
   "metadata": {
    "collapsed": true
   },
   "outputs": [],
   "source": []
  },
  {
   "cell_type": "code",
   "execution_count": 23,
   "metadata": {
    "collapsed": false
   },
   "outputs": [],
   "source": [
    "class A(object):\n",
    "    \n",
    "    def __recreate__(self):\n",
    "        return self.__class__()\n",
    "    \n",
    "class B(A):\n",
    "    def __recreate__(self):\n",
    "        return super(B,self).__recreate__()"
   ]
  },
  {
   "cell_type": "code",
   "execution_count": 25,
   "metadata": {
    "collapsed": false
   },
   "outputs": [
    {
     "data": {
      "text/plain": [
       "<__main__.B at 0x7f18bbe9cf90>"
      ]
     },
     "execution_count": 25,
     "metadata": {},
     "output_type": "execute_result"
    }
   ],
   "source": [
    "B().__recreate__()"
   ]
  },
  {
   "cell_type": "code",
   "execution_count": 26,
   "metadata": {
    "collapsed": true
   },
   "outputs": [],
   "source": [
    "b = B()"
   ]
  },
  {
   "cell_type": "code",
   "execution_count": 28,
   "metadata": {
    "collapsed": false
   },
   "outputs": [
    {
     "ename": "TypeError",
     "evalue": "object.__new__(): not enough arguments",
     "output_type": "error",
     "traceback": [
      "\u001b[0;31m---------------------------------------------------------------------------\u001b[0m",
      "\u001b[0;31mTypeError\u001b[0m                                 Traceback (most recent call last)",
      "\u001b[0;32m<ipython-input-28-b6fdc5abba33>\u001b[0m in \u001b[0;36m<module>\u001b[0;34m()\u001b[0m\n\u001b[0;32m----> 1\u001b[0;31m \u001b[0mb\u001b[0m\u001b[0;34m.\u001b[0m\u001b[0m__new__\u001b[0m\u001b[0;34m(\u001b[0m\u001b[0;34m)\u001b[0m\u001b[0;34m\u001b[0m\u001b[0m\n\u001b[0m",
      "\u001b[0;31mTypeError\u001b[0m: object.__new__(): not enough arguments"
     ]
    }
   ],
   "source": [
    "b.__new__()"
   ]
  },
  {
   "cell_type": "code",
   "execution_count": null,
   "metadata": {
    "collapsed": true
   },
   "outputs": [],
   "source": []
  }
 ],
 "metadata": {
  "kernelspec": {
   "display_name": "Python 2",
   "language": "python",
   "name": "python2"
  }
 },
 "nbformat": 4,
 "nbformat_minor": 2
}
